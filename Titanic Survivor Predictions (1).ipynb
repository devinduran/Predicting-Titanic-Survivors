{
 "cells": [
  {
   "cell_type": "markdown",
   "id": "1a4bb8d5",
   "metadata": {},
   "source": [
    "**Student Name:** Adam Abid, Devin Duran \n",
    "\n",
    "**Assignment Title:** Final Project - Persuasive Analysis - Predicting Titanic Survivors\n"
   ]
  },
  {
   "cell_type": "markdown",
   "id": "1b9c68c0",
   "metadata": {},
   "source": [
    "\n",
    "\n",
    "\n",
    "   ### <mark> Predicting Titanic Survivors </mark>\n",
    "\n",
    "# <mark> Getting Started: </mark>\n",
    "- First we will import  the necessary libraries\n",
    "- The libraries we will use to help us in making our model with the prediction tools coming from sklearn\n",
    "- We will also use the pandas library to clean our data for descriptive statistics.\n",
    "- In this specific example we are using the regression model of random forest.\n",
    "\n",
    "\n",
    "\n",
    "<mark>__Background__<br></mark>\n",
    "The dataset https://github.com/datasciencedojo/datasets/blob/master/titanic.csv contains all of the information about the passengers on the Titanic. It contains their names, age, sex, fare price, and most importantly whether they survived or not. We will be using this data to create a model in order to predict titanic survivors as well as answering questions about whether there is a pattern on who survived vs. who didn't or was it all just random."
   ]
  },
  {
   "cell_type": "code",
   "execution_count": 1,
   "id": "6c90d69a",
   "metadata": {},
   "outputs": [],
   "source": [
    "#Importing the Libraries\n",
    "import pandas as pd\n",
    "import numpy as np\n",
    "import matplotlib.pyplot as plt\n",
    "\n",
    "from sklearn.model_selection import RandomizedSearchCV, train_test_split\n",
    "from sklearn.ensemble import RandomForestClassifier\n",
    "from sklearn.ensemble import RandomForestRegressor\n",
    "from sklearn import datasets\n",
    "from sklearn.feature_selection import SelectFromModel\n",
    "from sklearn.metrics import accuracy_score\n",
    "from sklearn.preprocessing import LabelEncoder\n",
    "pd.options.mode.chained_assignment = None\n"
   ]
  },
  {
   "cell_type": "markdown",
   "id": "da3f80d4",
   "metadata": {},
   "source": [
    "### <mark> Loading the Data </mark>\n",
    "\n",
    "- Here we will load in the data and run data.head() to pring the first 5 indexes and confirm the data was read in successfully."
   ]
  },
  {
   "cell_type": "code",
   "execution_count": 2,
   "id": "8ceecf80",
   "metadata": {},
   "outputs": [
    {
     "data": {
      "text/html": [
       "<div>\n",
       "<style scoped>\n",
       "    .dataframe tbody tr th:only-of-type {\n",
       "        vertical-align: middle;\n",
       "    }\n",
       "\n",
       "    .dataframe tbody tr th {\n",
       "        vertical-align: top;\n",
       "    }\n",
       "\n",
       "    .dataframe thead th {\n",
       "        text-align: right;\n",
       "    }\n",
       "</style>\n",
       "<table border=\"1\" class=\"dataframe\">\n",
       "  <thead>\n",
       "    <tr style=\"text-align: right;\">\n",
       "      <th></th>\n",
       "      <th>PassengerId</th>\n",
       "      <th>Survived</th>\n",
       "      <th>Pclass</th>\n",
       "      <th>Name</th>\n",
       "      <th>Sex</th>\n",
       "      <th>Age</th>\n",
       "      <th>SibSp</th>\n",
       "      <th>Parch</th>\n",
       "      <th>Ticket</th>\n",
       "      <th>Fare</th>\n",
       "      <th>Cabin</th>\n",
       "      <th>Embarked</th>\n",
       "    </tr>\n",
       "  </thead>\n",
       "  <tbody>\n",
       "    <tr>\n",
       "      <th>0</th>\n",
       "      <td>1</td>\n",
       "      <td>0</td>\n",
       "      <td>3</td>\n",
       "      <td>Braund, Mr. Owen Harris</td>\n",
       "      <td>male</td>\n",
       "      <td>22.0</td>\n",
       "      <td>1</td>\n",
       "      <td>0</td>\n",
       "      <td>A/5 21171</td>\n",
       "      <td>7.2500</td>\n",
       "      <td>NaN</td>\n",
       "      <td>S</td>\n",
       "    </tr>\n",
       "    <tr>\n",
       "      <th>1</th>\n",
       "      <td>2</td>\n",
       "      <td>1</td>\n",
       "      <td>1</td>\n",
       "      <td>Cumings, Mrs. John Bradley (Florence Briggs Th...</td>\n",
       "      <td>female</td>\n",
       "      <td>38.0</td>\n",
       "      <td>1</td>\n",
       "      <td>0</td>\n",
       "      <td>PC 17599</td>\n",
       "      <td>71.2833</td>\n",
       "      <td>C85</td>\n",
       "      <td>C</td>\n",
       "    </tr>\n",
       "    <tr>\n",
       "      <th>2</th>\n",
       "      <td>3</td>\n",
       "      <td>1</td>\n",
       "      <td>3</td>\n",
       "      <td>Heikkinen, Miss. Laina</td>\n",
       "      <td>female</td>\n",
       "      <td>26.0</td>\n",
       "      <td>0</td>\n",
       "      <td>0</td>\n",
       "      <td>STON/O2. 3101282</td>\n",
       "      <td>7.9250</td>\n",
       "      <td>NaN</td>\n",
       "      <td>S</td>\n",
       "    </tr>\n",
       "    <tr>\n",
       "      <th>3</th>\n",
       "      <td>4</td>\n",
       "      <td>1</td>\n",
       "      <td>1</td>\n",
       "      <td>Futrelle, Mrs. Jacques Heath (Lily May Peel)</td>\n",
       "      <td>female</td>\n",
       "      <td>35.0</td>\n",
       "      <td>1</td>\n",
       "      <td>0</td>\n",
       "      <td>113803</td>\n",
       "      <td>53.1000</td>\n",
       "      <td>C123</td>\n",
       "      <td>S</td>\n",
       "    </tr>\n",
       "    <tr>\n",
       "      <th>4</th>\n",
       "      <td>5</td>\n",
       "      <td>0</td>\n",
       "      <td>3</td>\n",
       "      <td>Allen, Mr. William Henry</td>\n",
       "      <td>male</td>\n",
       "      <td>35.0</td>\n",
       "      <td>0</td>\n",
       "      <td>0</td>\n",
       "      <td>373450</td>\n",
       "      <td>8.0500</td>\n",
       "      <td>NaN</td>\n",
       "      <td>S</td>\n",
       "    </tr>\n",
       "  </tbody>\n",
       "</table>\n",
       "</div>"
      ],
      "text/plain": [
       "   PassengerId  Survived  Pclass  \\\n",
       "0            1         0       3   \n",
       "1            2         1       1   \n",
       "2            3         1       3   \n",
       "3            4         1       1   \n",
       "4            5         0       3   \n",
       "\n",
       "                                                Name     Sex   Age  SibSp  \\\n",
       "0                            Braund, Mr. Owen Harris    male  22.0      1   \n",
       "1  Cumings, Mrs. John Bradley (Florence Briggs Th...  female  38.0      1   \n",
       "2                             Heikkinen, Miss. Laina  female  26.0      0   \n",
       "3       Futrelle, Mrs. Jacques Heath (Lily May Peel)  female  35.0      1   \n",
       "4                           Allen, Mr. William Henry    male  35.0      0   \n",
       "\n",
       "   Parch            Ticket     Fare Cabin Embarked  \n",
       "0      0         A/5 21171   7.2500   NaN        S  \n",
       "1      0          PC 17599  71.2833   C85        C  \n",
       "2      0  STON/O2. 3101282   7.9250   NaN        S  \n",
       "3      0            113803  53.1000  C123        S  \n",
       "4      0            373450   8.0500   NaN        S  "
      ]
     },
     "execution_count": 2,
     "metadata": {},
     "output_type": "execute_result"
    }
   ],
   "source": [
    "data = pd.read_csv(\"titanic.csv\")\n",
    "data.head()\n"
   ]
  },
  {
   "cell_type": "code",
   "execution_count": 3,
   "id": "5ccf028d",
   "metadata": {},
   "outputs": [
    {
     "name": "stdout",
     "output_type": "stream",
     "text": [
      "<class 'pandas.core.frame.DataFrame'>\n",
      "RangeIndex: 891 entries, 0 to 890\n",
      "Data columns (total 12 columns):\n",
      " #   Column       Non-Null Count  Dtype  \n",
      "---  ------       --------------  -----  \n",
      " 0   PassengerId  891 non-null    int64  \n",
      " 1   Survived     891 non-null    int64  \n",
      " 2   Pclass       891 non-null    int64  \n",
      " 3   Name         891 non-null    object \n",
      " 4   Sex          891 non-null    object \n",
      " 5   Age          714 non-null    float64\n",
      " 6   SibSp        891 non-null    int64  \n",
      " 7   Parch        891 non-null    int64  \n",
      " 8   Ticket       891 non-null    object \n",
      " 9   Fare         891 non-null    float64\n",
      " 10  Cabin        204 non-null    object \n",
      " 11  Embarked     889 non-null    object \n",
      "dtypes: float64(2), int64(5), object(5)\n",
      "memory usage: 83.7+ KB\n"
     ]
    }
   ],
   "source": [
    "data.info()"
   ]
  },
  {
   "cell_type": "markdown",
   "id": "599c0401",
   "metadata": {},
   "source": [
    "### <mark> About the data </mark>\n",
    "\n",
    "- To learn more about the type of data that is in our dataset we have used the data.info() function. \n",
    "\n",
    "- It shows us that they are 891 observatons with 12 categories \n",
    "- The data types included are floats (2), ints (5), objects (5)\n",
    "- Below is the **key** for the unintuitve categories in the data frames\n",
    "\n",
    "\n",
    "    - passengerId = number id represnting passenger\n",
    "    - survived    = 1 for survived and 0 for death\n",
    "    - P class     = The ticket class of the passenger\n",
    "    - Sib/Sp      = The number of siblings/ spouses along with them if any\n",
    "    - parch       = The number of parents aboard with the passenger if any\n",
    "    - embarked    = Port where the passenger had originally embarked\n",
    "\n",
    "- With the describe function we can calculate key statistics in helping us\n",
    "- understand the data set more and see if they are any obvious factors when predicting survivors.\n",
    "\n",
    "- Some important states are that out of all the passengers only **38%** of the pessengers survived. Additonally, the average age of the passengers were 29 meaning that the passenger class was quite young.\n",
    "\n"
   ]
  },
  {
   "cell_type": "code",
   "execution_count": 4,
   "id": "c8a7d953",
   "metadata": {
    "scrolled": true
   },
   "outputs": [
    {
     "data": {
      "text/html": [
       "<div>\n",
       "<style scoped>\n",
       "    .dataframe tbody tr th:only-of-type {\n",
       "        vertical-align: middle;\n",
       "    }\n",
       "\n",
       "    .dataframe tbody tr th {\n",
       "        vertical-align: top;\n",
       "    }\n",
       "\n",
       "    .dataframe thead th {\n",
       "        text-align: right;\n",
       "    }\n",
       "</style>\n",
       "<table border=\"1\" class=\"dataframe\">\n",
       "  <thead>\n",
       "    <tr style=\"text-align: right;\">\n",
       "      <th></th>\n",
       "      <th>PassengerId</th>\n",
       "      <th>Survived</th>\n",
       "      <th>Pclass</th>\n",
       "      <th>Age</th>\n",
       "      <th>SibSp</th>\n",
       "      <th>Parch</th>\n",
       "      <th>Fare</th>\n",
       "    </tr>\n",
       "  </thead>\n",
       "  <tbody>\n",
       "    <tr>\n",
       "      <th>count</th>\n",
       "      <td>891.000000</td>\n",
       "      <td>891.000000</td>\n",
       "      <td>891.000000</td>\n",
       "      <td>714.000000</td>\n",
       "      <td>891.000000</td>\n",
       "      <td>891.000000</td>\n",
       "      <td>891.000000</td>\n",
       "    </tr>\n",
       "    <tr>\n",
       "      <th>mean</th>\n",
       "      <td>446.000000</td>\n",
       "      <td>0.383838</td>\n",
       "      <td>2.308642</td>\n",
       "      <td>29.699118</td>\n",
       "      <td>0.523008</td>\n",
       "      <td>0.381594</td>\n",
       "      <td>32.204208</td>\n",
       "    </tr>\n",
       "    <tr>\n",
       "      <th>std</th>\n",
       "      <td>257.353842</td>\n",
       "      <td>0.486592</td>\n",
       "      <td>0.836071</td>\n",
       "      <td>14.526497</td>\n",
       "      <td>1.102743</td>\n",
       "      <td>0.806057</td>\n",
       "      <td>49.693429</td>\n",
       "    </tr>\n",
       "    <tr>\n",
       "      <th>min</th>\n",
       "      <td>1.000000</td>\n",
       "      <td>0.000000</td>\n",
       "      <td>1.000000</td>\n",
       "      <td>0.420000</td>\n",
       "      <td>0.000000</td>\n",
       "      <td>0.000000</td>\n",
       "      <td>0.000000</td>\n",
       "    </tr>\n",
       "    <tr>\n",
       "      <th>25%</th>\n",
       "      <td>223.500000</td>\n",
       "      <td>0.000000</td>\n",
       "      <td>2.000000</td>\n",
       "      <td>20.125000</td>\n",
       "      <td>0.000000</td>\n",
       "      <td>0.000000</td>\n",
       "      <td>7.910400</td>\n",
       "    </tr>\n",
       "    <tr>\n",
       "      <th>50%</th>\n",
       "      <td>446.000000</td>\n",
       "      <td>0.000000</td>\n",
       "      <td>3.000000</td>\n",
       "      <td>28.000000</td>\n",
       "      <td>0.000000</td>\n",
       "      <td>0.000000</td>\n",
       "      <td>14.454200</td>\n",
       "    </tr>\n",
       "    <tr>\n",
       "      <th>75%</th>\n",
       "      <td>668.500000</td>\n",
       "      <td>1.000000</td>\n",
       "      <td>3.000000</td>\n",
       "      <td>38.000000</td>\n",
       "      <td>1.000000</td>\n",
       "      <td>0.000000</td>\n",
       "      <td>31.000000</td>\n",
       "    </tr>\n",
       "    <tr>\n",
       "      <th>max</th>\n",
       "      <td>891.000000</td>\n",
       "      <td>1.000000</td>\n",
       "      <td>3.000000</td>\n",
       "      <td>80.000000</td>\n",
       "      <td>8.000000</td>\n",
       "      <td>6.000000</td>\n",
       "      <td>512.329200</td>\n",
       "    </tr>\n",
       "  </tbody>\n",
       "</table>\n",
       "</div>"
      ],
      "text/plain": [
       "       PassengerId    Survived      Pclass         Age       SibSp  \\\n",
       "count   891.000000  891.000000  891.000000  714.000000  891.000000   \n",
       "mean    446.000000    0.383838    2.308642   29.699118    0.523008   \n",
       "std     257.353842    0.486592    0.836071   14.526497    1.102743   \n",
       "min       1.000000    0.000000    1.000000    0.420000    0.000000   \n",
       "25%     223.500000    0.000000    2.000000   20.125000    0.000000   \n",
       "50%     446.000000    0.000000    3.000000   28.000000    0.000000   \n",
       "75%     668.500000    1.000000    3.000000   38.000000    1.000000   \n",
       "max     891.000000    1.000000    3.000000   80.000000    8.000000   \n",
       "\n",
       "            Parch        Fare  \n",
       "count  891.000000  891.000000  \n",
       "mean     0.381594   32.204208  \n",
       "std      0.806057   49.693429  \n",
       "min      0.000000    0.000000  \n",
       "25%      0.000000    7.910400  \n",
       "50%      0.000000   14.454200  \n",
       "75%      0.000000   31.000000  \n",
       "max      6.000000  512.329200  "
      ]
     },
     "execution_count": 4,
     "metadata": {},
     "output_type": "execute_result"
    }
   ],
   "source": [
    "data.describe()"
   ]
  },
  {
   "cell_type": "markdown",
   "id": "6e9aae28",
   "metadata": {},
   "source": [
    "## <mark> Cleaning Data Frame: </mark>\n",
    "\n",
    "- We will start out by creating a new data frame with the columns that are necessary \n",
    "- We will then use the **Label Encoder** to turn all of sex string data into numerical data as we would like that to be a factor in our prediction.\n",
    "\n",
    "\n",
    "- We will also use a for loop to change all the numeric data types into float types \n",
    "- We will also remove all NA entries from the data frame\n"
   ]
  },
  {
   "cell_type": "code",
   "execution_count": 5,
   "id": "4767a25d",
   "metadata": {
    "scrolled": true
   },
   "outputs": [
    {
     "name": "stdout",
     "output_type": "stream",
     "text": [
      "<class 'pandas.core.frame.DataFrame'>\n",
      "Int64Index: 714 entries, 0 to 890\n",
      "Data columns (total 6 columns):\n",
      " #   Column       Non-Null Count  Dtype  \n",
      "---  ------       --------------  -----  \n",
      " 0   PassengerId  714 non-null    float64\n",
      " 1   Survived     714 non-null    float64\n",
      " 2   Age          714 non-null    float64\n",
      " 3   Fare         714 non-null    float64\n",
      " 4   Pclass       714 non-null    float64\n",
      " 5   Sex          714 non-null    float64\n",
      "dtypes: float64(6)\n",
      "memory usage: 39.0 KB\n"
     ]
    }
   ],
   "source": [
    "new_data = data[['PassengerId', 'Survived', 'Age', 'Fare','Pclass','Sex']]\n",
    "\n",
    "le = LabelEncoder()\n",
    "new_data['Sex'] = le.fit_transform(new_data['Sex'])\n",
    "\n",
    "new_data = new_data.dropna()\n",
    "\n",
    "\n",
    "for k in new_data:\n",
    "    if new_data[k].dtypes == \"int64\":\n",
    "        new_data[k] = new_data[k].astype(float)\n",
    "        \n",
    "        \n",
    "new_data.info()\n"
   ]
  },
  {
   "cell_type": "markdown",
   "id": "16cccf14",
   "metadata": {},
   "source": [
    "- We can now see with the info() funciton that we have successfully changed the datatype to all floats for continuity and have created a new data frame with the factors that will help us predict which passengers will survive and which will not."
   ]
  },
  {
   "cell_type": "code",
   "execution_count": 6,
   "id": "a92eb66d",
   "metadata": {},
   "outputs": [
    {
     "data": {
      "text/html": [
       "<div>\n",
       "<style scoped>\n",
       "    .dataframe tbody tr th:only-of-type {\n",
       "        vertical-align: middle;\n",
       "    }\n",
       "\n",
       "    .dataframe tbody tr th {\n",
       "        vertical-align: top;\n",
       "    }\n",
       "\n",
       "    .dataframe thead th {\n",
       "        text-align: right;\n",
       "    }\n",
       "</style>\n",
       "<table border=\"1\" class=\"dataframe\">\n",
       "  <thead>\n",
       "    <tr style=\"text-align: right;\">\n",
       "      <th></th>\n",
       "      <th>PassengerId</th>\n",
       "      <th>Survived</th>\n",
       "      <th>Age</th>\n",
       "      <th>Fare</th>\n",
       "      <th>Pclass</th>\n",
       "      <th>Sex</th>\n",
       "    </tr>\n",
       "  </thead>\n",
       "  <tbody>\n",
       "    <tr>\n",
       "      <th>0</th>\n",
       "      <td>1.0</td>\n",
       "      <td>0.0</td>\n",
       "      <td>22.0</td>\n",
       "      <td>7.2500</td>\n",
       "      <td>3.0</td>\n",
       "      <td>1.0</td>\n",
       "    </tr>\n",
       "    <tr>\n",
       "      <th>1</th>\n",
       "      <td>2.0</td>\n",
       "      <td>1.0</td>\n",
       "      <td>38.0</td>\n",
       "      <td>71.2833</td>\n",
       "      <td>1.0</td>\n",
       "      <td>0.0</td>\n",
       "    </tr>\n",
       "    <tr>\n",
       "      <th>2</th>\n",
       "      <td>3.0</td>\n",
       "      <td>1.0</td>\n",
       "      <td>26.0</td>\n",
       "      <td>7.9250</td>\n",
       "      <td>3.0</td>\n",
       "      <td>0.0</td>\n",
       "    </tr>\n",
       "    <tr>\n",
       "      <th>3</th>\n",
       "      <td>4.0</td>\n",
       "      <td>1.0</td>\n",
       "      <td>35.0</td>\n",
       "      <td>53.1000</td>\n",
       "      <td>1.0</td>\n",
       "      <td>0.0</td>\n",
       "    </tr>\n",
       "    <tr>\n",
       "      <th>4</th>\n",
       "      <td>5.0</td>\n",
       "      <td>0.0</td>\n",
       "      <td>35.0</td>\n",
       "      <td>8.0500</td>\n",
       "      <td>3.0</td>\n",
       "      <td>1.0</td>\n",
       "    </tr>\n",
       "  </tbody>\n",
       "</table>\n",
       "</div>"
      ],
      "text/plain": [
       "   PassengerId  Survived   Age     Fare  Pclass  Sex\n",
       "0          1.0       0.0  22.0   7.2500     3.0  1.0\n",
       "1          2.0       1.0  38.0  71.2833     1.0  0.0\n",
       "2          3.0       1.0  26.0   7.9250     3.0  0.0\n",
       "3          4.0       1.0  35.0  53.1000     1.0  0.0\n",
       "4          5.0       0.0  35.0   8.0500     3.0  1.0"
      ]
     },
     "execution_count": 6,
     "metadata": {},
     "output_type": "execute_result"
    }
   ],
   "source": [
    "new_data.head()"
   ]
  },
  {
   "cell_type": "markdown",
   "id": "3870a7f9",
   "metadata": {},
   "source": [
    "## <mark>Creating and Training our Model: </mark>\n",
    "\n",
    "- After cleaning our data and making our data frame suitable for the random forest functions, we can now begin training and testing our model.\n",
    "\n",
    "\n",
    "- Firstly we will create and seperate our independent and dependent variables. \n",
    "\n",
    "- In this context our independent variables is the thing we our trying to predict and the dependent variables are the variables we will use to create our prediction. \n",
    "\n",
    "- For this specific model we have chosen to predict whether a passenger on the Titanic will survive or not. \n",
    "\n",
    "- **We are not predicting an amount, we are predicting a yes or no** this means that we will be using the classification version of the Random Forest model and not the regression model.\n",
    "\n",
    "\n",
    "\n",
    "- **We want to** first create an accurate prediction model but also see what factors are important in deeming whether a passenger will survive or not. \n",
    "\n",
    "\n",
    "### <mark> Defining our indepentdent and dependent variables </mark>\n",
    "\n",
    "- our dependent variables are the factors that will affect/ help determine the independent variable. Our independent variable is the thing we want to predict. In this case we want to **predict whether or not a passenger will survive**. The factors we will use to determine that will be **Age, Fare, Pclass, and Sex**\n",
    " \n"
   ]
  },
  {
   "cell_type": "code",
   "execution_count": 7,
   "id": "e16ae4bb",
   "metadata": {},
   "outputs": [],
   "source": [
    "x = new_data[['Age', 'Fare','Pclass','Sex']]\n",
    "y = new_data[['Survived']]"
   ]
  },
  {
   "cell_type": "markdown",
   "id": "b556b068",
   "metadata": {},
   "source": [
    "- Now we are going to train our data using the **train_test_split** function\n",
    "\n",
    "\n",
    "- For our model we will be using **30%** of the dataset to train the model and the remaining **70%** to test the model.\n",
    "\n",
    "\n",
    "- For our intial test we will be using **10 estimators** and see what our accuracy looks like "
   ]
  },
  {
   "cell_type": "code",
   "execution_count": 8,
   "id": "51cfa3ea",
   "metadata": {},
   "outputs": [],
   "source": [
    "x_train, x_test, y_train, y_test = train_test_split(x, y, test_size=0.3, random_state=5)\n",
    "h = RandomForestClassifier(n_estimators = 10, random_state = 5)\n"
   ]
  },
  {
   "cell_type": "markdown",
   "id": "b597bc86",
   "metadata": {},
   "source": [
    "## <mark>Running our Model: </mark>\n",
    "\n",
    "- We can now run the model with the **fit()** and testing it with the **predict()** funciton\n",
    "\n",
    "\n",
    "- We can judge our model results with the **mean squared error** which tells us the average summation of the squared difference from the actual value and the predicted value.\n",
    "\n",
    "\n",
    "- There is no correct **mse** value as it is a relative number to the data set however the lower the number the better and a mse of zero indicates a perfect model.\n",
    "\n",
    "\n"
   ]
  },
  {
   "cell_type": "code",
   "execution_count": 9,
   "id": "68b66702",
   "metadata": {},
   "outputs": [
    {
     "data": {
      "text/plain": [
       "0.7767441860465116"
      ]
     },
     "execution_count": 9,
     "metadata": {},
     "output_type": "execute_result"
    }
   ],
   "source": [
    "y_train = y_train.values.ravel()\n",
    "h.fit(x_train,y_train)\n",
    "y_pred = h.predict(x_test)\n",
    "\n",
    "accuracy = accuracy_score(y_test,y_pred)\n",
    "accuracy"
   ]
  },
  {
   "cell_type": "code",
   "execution_count": 10,
   "id": "9a51c9bf",
   "metadata": {},
   "outputs": [
    {
     "name": "stderr",
     "output_type": "stream",
     "text": [
      "/Users/adamabid/opt/anaconda3/lib/python3.9/site-packages/sklearn/base.py:450: UserWarning: X does not have valid feature names, but RandomForestClassifier was fitted with feature names\n",
      "  warnings.warn(\n"
     ]
    },
    {
     "data": {
      "text/plain": [
       "array([1.])"
      ]
     },
     "execution_count": 10,
     "metadata": {},
     "output_type": "execute_result"
    }
   ],
   "source": [
    "\n",
    "\n",
    "obs = [[14.0,300.0,1.0,1.0]]\n",
    "h.predict(obs) \n"
   ]
  },
  {
   "cell_type": "code",
   "execution_count": 11,
   "id": "5aafe0f9",
   "metadata": {},
   "outputs": [
    {
     "name": "stderr",
     "output_type": "stream",
     "text": [
      "/Users/adamabid/opt/anaconda3/lib/python3.9/site-packages/sklearn/base.py:450: UserWarning: X does not have valid feature names, but RandomForestClassifier was fitted with feature names\n",
      "  warnings.warn(\n"
     ]
    },
    {
     "data": {
      "text/plain": [
       "array([0.])"
      ]
     },
     "execution_count": 11,
     "metadata": {},
     "output_type": "execute_result"
    }
   ],
   "source": [
    "obs = [[37.0,28.0,2.0,1.0]]\n",
    "h.predict(obs) \n"
   ]
  },
  {
   "cell_type": "code",
   "execution_count": 12,
   "id": "b96aa05e",
   "metadata": {
    "scrolled": true
   },
   "outputs": [
    {
     "data": {
      "image/png": "[encoded data removed]",
      "text/plain": [
       "<Figure size 432x288 with 1 Axes>"
      ]
     },
     "metadata": {
      "needs_background": "light"
     },
     "output_type": "display_data"
    }
   ],
   "source": [
    "model_ranks=pd.Series(h.feature_importances_,index=x_train.columns,name=\"Importance\").sort_values(ascending=True,inplace=False) \n",
    "ax=model_ranks.plot(kind='barh')"
   ]
  },
  {
   "cell_type": "markdown",
   "id": "0ed2730b",
   "metadata": {},
   "source": [
    "## <mark> Initial Results </mark>\n",
    "\n",
    "- For our first prediction we wanted to know whether or not a 14 yr old female passenger who had paid 300 USD for their fare and was cabin class 1 would survive or not. **(they would)**\n",
    "\n",
    "- For our first prediction we wanted to know whether or not a 37 yr old male passenger who had paid 28 USD for their fare and was cabin class 2 would survive or not. **(they would not)**\n",
    "\n",
    "- Our model predicts that yes he will indeed survive \n",
    "\n",
    "- Our initial model has an accuracy score of .78 and accroding to the important factor visualization it deems that all of the dependent variables except for the cabin class is important in whether or not predicting whether a passenger will survive or not."
   ]
  },
  {
   "cell_type": "markdown",
   "id": "c3d76537",
   "metadata": {},
   "source": [
    "### <mark>Improving  our Model: </mark>\n",
    "\n",
    "- The previous run will serve as our benchmark standard, we can now work on impoving the accuracy of our model.\n",
    "\n",
    "\n",
    "- The first thing we want to do is impover the accuracy score. A way we can do this is increase the amount of estimators we have. With such a big time frame and multiple factors it would make sense to increase the amount of samples for the model to look at.\n",
    "\n",
    "- We will change the number of estimators until we see a **diminish of returns**\n",
    "\n",
    "- We have tested moving the number of estimators from 10 to 100 to 1000 with 100 being the point of diminishing returns with an accuracy of.80 and 1000 being .809\n",
    "\n",
    "- So going forward we will choose our n estimators to be 100 as it is the highest accuracy we can acheive while also being highly efficient as increasing the number of estimators creates for a longer runtime\n",
    "\n"
   ]
  },
  {
   "cell_type": "code",
   "execution_count": 13,
   "id": "e7adea6b",
   "metadata": {},
   "outputs": [
    {
     "data": {
      "text/plain": [
       "0.8"
      ]
     },
     "execution_count": 13,
     "metadata": {},
     "output_type": "execute_result"
    }
   ],
   "source": [
    "#model v2\n",
    "x_train, x_test, y_train, y_test = train_test_split(x, y, test_size=0.3, random_state=5)\n",
    "h = RandomForestClassifier(n_estimators = 100, random_state = 5)\n",
    "y_train = y_train.values.ravel()\n",
    "h.fit(x_train,y_train)\n",
    "y_pred = h.predict(x_test)\n",
    "\n",
    "accuracy = accuracy_score(y_test,y_pred)\n",
    "accuracy"
   ]
  },
  {
   "cell_type": "code",
   "execution_count": 14,
   "id": "728753e4",
   "metadata": {},
   "outputs": [
    {
     "data": {
      "text/plain": [
       "0.8093023255813954"
      ]
     },
     "execution_count": 14,
     "metadata": {},
     "output_type": "execute_result"
    }
   ],
   "source": [
    "#model v3\n",
    "x_train, x_test, y_train, y_test = train_test_split(x, y, test_size=0.3, random_state=5)\n",
    "h = RandomForestClassifier(n_estimators = 1000, random_state = 5)\n",
    "y_train = y_train.values.ravel()\n",
    "h.fit(x_train,y_train)\n",
    "y_pred = h.predict(x_test)\n",
    "\n",
    "accuracy = accuracy_score(y_test,y_pred)\n",
    "accuracy"
   ]
  },
  {
   "cell_type": "markdown",
   "id": "41610a09",
   "metadata": {},
   "source": [
    "- Additionallly, it may seem that the best way to  **improve our model** is by dropping the cabin class column as the importance factor for that is much lower compared to the rest of the variables.\n",
    "\n",
    "- **HOWEVER** doing so gives the model much less data to correlate and classify with. Giving it a drastically lower accuracy score(.74) compared to that of before. \n",
    "\n",
    "- So for our **continued predictions** we will not be using this model and will revert to our second version where the only change was the number of estimators."
   ]
  },
  {
   "cell_type": "code",
   "execution_count": 15,
   "id": "a45b6c07",
   "metadata": {},
   "outputs": [
    {
     "data": {
      "text/plain": [
       "0.7441860465116279"
      ]
     },
     "execution_count": 15,
     "metadata": {},
     "output_type": "execute_result"
    }
   ],
   "source": [
    "x = new_data[['Age', 'Fare','Sex']]\n",
    "y = new_data[['Survived']]\n",
    "x_train, x_test, y_train, y_test = train_test_split(x, y, test_size=0.3, random_state=5)\n",
    "h = RandomForestClassifier(n_estimators = 1000, random_state = 5)\n",
    "y_train = y_train.values.ravel()\n",
    "h.fit(x_train,y_train)\n",
    "y_pred = h.predict(x_test)\n",
    "\n",
    "accuracy = accuracy_score(y_test,y_pred)\n",
    "accuracy"
   ]
  },
  {
   "cell_type": "code",
   "execution_count": 16,
   "id": "d6609601",
   "metadata": {},
   "outputs": [
    {
     "data": {
      "text/plain": [
       "0.8"
      ]
     },
     "execution_count": 16,
     "metadata": {},
     "output_type": "execute_result"
    }
   ],
   "source": [
    "#reverting back to model v2\n",
    "x = new_data[['Age', 'Fare','Pclass','Sex']]\n",
    "y = new_data[['Survived']]\n",
    "x_train, x_test, y_train, y_test = train_test_split(x, y, test_size=0.3, random_state=5)\n",
    "h = RandomForestClassifier(n_estimators = 100, random_state = 5)\n",
    "y_train = y_train.values.ravel()\n",
    "h.fit(x_train,y_train)\n",
    "y_pred = h.predict(x_test)\n",
    "\n",
    "accuracy = accuracy_score(y_test,y_pred)\n",
    "accuracy"
   ]
  },
  {
   "cell_type": "code",
   "execution_count": 17,
   "id": "43759cf6",
   "metadata": {
    "scrolled": false
   },
   "outputs": [
    {
     "name": "stderr",
     "output_type": "stream",
     "text": [
      "/Users/adamabid/opt/anaconda3/lib/python3.9/site-packages/sklearn/base.py:450: UserWarning: X does not have valid feature names, but RandomForestClassifier was fitted with feature names\n",
      "  warnings.warn(\n"
     ]
    },
    {
     "data": {
      "text/plain": [
       "array([1.])"
      ]
     },
     "execution_count": 17,
     "metadata": {},
     "output_type": "execute_result"
    }
   ],
   "source": [
    "\n",
    "obs = [[14.0,300.0,1.0,0.0]]\n",
    "h.predict(obs) "
   ]
  },
  {
   "cell_type": "code",
   "execution_count": 18,
   "id": "a198af35",
   "metadata": {
    "scrolled": false
   },
   "outputs": [
    {
     "name": "stderr",
     "output_type": "stream",
     "text": [
      "/Users/adamabid/opt/anaconda3/lib/python3.9/site-packages/sklearn/base.py:450: UserWarning: X does not have valid feature names, but RandomForestClassifier was fitted with feature names\n",
      "  warnings.warn(\n"
     ]
    },
    {
     "data": {
      "text/plain": [
       "array([0.])"
      ]
     },
     "execution_count": 18,
     "metadata": {},
     "output_type": "execute_result"
    }
   ],
   "source": [
    "\n",
    "obs = [[37.0,28.0,2.0,1.0]]\n",
    "h.predict(obs) \n"
   ]
  },
  {
   "cell_type": "markdown",
   "id": "3fdd71e0",
   "metadata": {},
   "source": [
    "- With our second model having an increased number of estimators  the results predicting the same two passengers from our first model have the same results."
   ]
  },
  {
   "cell_type": "markdown",
   "id": "850d99d4",
   "metadata": {},
   "source": [
    "### <mark> Second Dataset </mark>\n",
    "\n",
    "\n",
    "Now using a whole new dataset on the Titanic, we run the methods we just did on the other dataset and compare the accuracy of the model and whether the passengers survival outcome is the same prediction as the prior dataset.<br><br>We first import the dataset from https://data.world/nrippner/titanic-disaster-dataset/workspace/file?filename=titanic.csv and read it in."
   ]
  },
  {
   "cell_type": "code",
   "execution_count": 19,
   "id": "e60d05a1",
   "metadata": {},
   "outputs": [
    {
     "data": {
      "text/html": [
       "<div>\n",
       "<style scoped>\n",
       "    .dataframe tbody tr th:only-of-type {\n",
       "        vertical-align: middle;\n",
       "    }\n",
       "\n",
       "    .dataframe tbody tr th {\n",
       "        vertical-align: top;\n",
       "    }\n",
       "\n",
       "    .dataframe thead th {\n",
       "        text-align: right;\n",
       "    }\n",
       "</style>\n",
       "<table border=\"1\" class=\"dataframe\">\n",
       "  <thead>\n",
       "    <tr style=\"text-align: right;\">\n",
       "      <th></th>\n",
       "      <th>pclass</th>\n",
       "      <th>survived</th>\n",
       "      <th>name</th>\n",
       "      <th>sex</th>\n",
       "      <th>age</th>\n",
       "      <th>sibsp</th>\n",
       "      <th>parch</th>\n",
       "      <th>ticket</th>\n",
       "      <th>fare</th>\n",
       "      <th>cabin</th>\n",
       "      <th>embarked</th>\n",
       "      <th>boat</th>\n",
       "      <th>body</th>\n",
       "      <th>home.dest</th>\n",
       "    </tr>\n",
       "  </thead>\n",
       "  <tbody>\n",
       "    <tr>\n",
       "      <th>0</th>\n",
       "      <td>1.0</td>\n",
       "      <td>1.0</td>\n",
       "      <td>Allen, Miss. Elisabeth Walton</td>\n",
       "      <td>female</td>\n",
       "      <td>29.0000</td>\n",
       "      <td>0.0</td>\n",
       "      <td>0.0</td>\n",
       "      <td>24160</td>\n",
       "      <td>211.3375</td>\n",
       "      <td>B5</td>\n",
       "      <td>S</td>\n",
       "      <td>2</td>\n",
       "      <td>NaN</td>\n",
       "      <td>St Louis, MO</td>\n",
       "    </tr>\n",
       "    <tr>\n",
       "      <th>1</th>\n",
       "      <td>1.0</td>\n",
       "      <td>1.0</td>\n",
       "      <td>Allison, Master. Hudson Trevor</td>\n",
       "      <td>male</td>\n",
       "      <td>0.9167</td>\n",
       "      <td>1.0</td>\n",
       "      <td>2.0</td>\n",
       "      <td>113781</td>\n",
       "      <td>151.5500</td>\n",
       "      <td>C22 C26</td>\n",
       "      <td>S</td>\n",
       "      <td>11</td>\n",
       "      <td>NaN</td>\n",
       "      <td>Montreal, PQ / Chesterville, ON</td>\n",
       "    </tr>\n",
       "    <tr>\n",
       "      <th>2</th>\n",
       "      <td>1.0</td>\n",
       "      <td>0.0</td>\n",
       "      <td>Allison, Miss. Helen Loraine</td>\n",
       "      <td>female</td>\n",
       "      <td>2.0000</td>\n",
       "      <td>1.0</td>\n",
       "      <td>2.0</td>\n",
       "      <td>113781</td>\n",
       "      <td>151.5500</td>\n",
       "      <td>C22 C26</td>\n",
       "      <td>S</td>\n",
       "      <td>NaN</td>\n",
       "      <td>NaN</td>\n",
       "      <td>Montreal, PQ / Chesterville, ON</td>\n",
       "    </tr>\n",
       "    <tr>\n",
       "      <th>3</th>\n",
       "      <td>1.0</td>\n",
       "      <td>0.0</td>\n",
       "      <td>Allison, Mr. Hudson Joshua Creighton</td>\n",
       "      <td>male</td>\n",
       "      <td>30.0000</td>\n",
       "      <td>1.0</td>\n",
       "      <td>2.0</td>\n",
       "      <td>113781</td>\n",
       "      <td>151.5500</td>\n",
       "      <td>C22 C26</td>\n",
       "      <td>S</td>\n",
       "      <td>NaN</td>\n",
       "      <td>135.0</td>\n",
       "      <td>Montreal, PQ / Chesterville, ON</td>\n",
       "    </tr>\n",
       "    <tr>\n",
       "      <th>4</th>\n",
       "      <td>1.0</td>\n",
       "      <td>0.0</td>\n",
       "      <td>Allison, Mrs. Hudson J C (Bessie Waldo Daniels)</td>\n",
       "      <td>female</td>\n",
       "      <td>25.0000</td>\n",
       "      <td>1.0</td>\n",
       "      <td>2.0</td>\n",
       "      <td>113781</td>\n",
       "      <td>151.5500</td>\n",
       "      <td>C22 C26</td>\n",
       "      <td>S</td>\n",
       "      <td>NaN</td>\n",
       "      <td>NaN</td>\n",
       "      <td>Montreal, PQ / Chesterville, ON</td>\n",
       "    </tr>\n",
       "  </tbody>\n",
       "</table>\n",
       "</div>"
      ],
      "text/plain": [
       "   pclass  survived                                             name     sex  \\\n",
       "0     1.0       1.0                    Allen, Miss. Elisabeth Walton  female   \n",
       "1     1.0       1.0                   Allison, Master. Hudson Trevor    male   \n",
       "2     1.0       0.0                     Allison, Miss. Helen Loraine  female   \n",
       "3     1.0       0.0             Allison, Mr. Hudson Joshua Creighton    male   \n",
       "4     1.0       0.0  Allison, Mrs. Hudson J C (Bessie Waldo Daniels)  female   \n",
       "\n",
       "       age  sibsp  parch  ticket      fare    cabin embarked boat   body  \\\n",
       "0  29.0000    0.0    0.0   24160  211.3375       B5        S    2    NaN   \n",
       "1   0.9167    1.0    2.0  113781  151.5500  C22 C26        S   11    NaN   \n",
       "2   2.0000    1.0    2.0  113781  151.5500  C22 C26        S  NaN    NaN   \n",
       "3  30.0000    1.0    2.0  113781  151.5500  C22 C26        S  NaN  135.0   \n",
       "4  25.0000    1.0    2.0  113781  151.5500  C22 C26        S  NaN    NaN   \n",
       "\n",
       "                         home.dest  \n",
       "0                     St Louis, MO  \n",
       "1  Montreal, PQ / Chesterville, ON  \n",
       "2  Montreal, PQ / Chesterville, ON  \n",
       "3  Montreal, PQ / Chesterville, ON  \n",
       "4  Montreal, PQ / Chesterville, ON  "
      ]
     },
     "execution_count": 19,
     "metadata": {},
     "output_type": "execute_result"
    }
   ],
   "source": [
    "titanic2 = pd.read_csv('titanic2.csv')\n",
    "titanic2.head()"
   ]
  },
  {
   "cell_type": "markdown",
   "id": "b225dd45",
   "metadata": {},
   "source": [
    "We decide to call this dataset 'titanic2'."
   ]
  },
  {
   "cell_type": "code",
   "execution_count": 20,
   "id": "b4c76a0e",
   "metadata": {},
   "outputs": [
    {
     "name": "stdout",
     "output_type": "stream",
     "text": [
      "<class 'pandas.core.frame.DataFrame'>\n",
      "RangeIndex: 1310 entries, 0 to 1309\n",
      "Data columns (total 14 columns):\n",
      " #   Column     Non-Null Count  Dtype  \n",
      "---  ------     --------------  -----  \n",
      " 0   pclass     1309 non-null   float64\n",
      " 1   survived   1309 non-null   float64\n",
      " 2   name       1309 non-null   object \n",
      " 3   sex        1309 non-null   object \n",
      " 4   age        1046 non-null   float64\n",
      " 5   sibsp      1309 non-null   float64\n",
      " 6   parch      1309 non-null   float64\n",
      " 7   ticket     1309 non-null   object \n",
      " 8   fare       1308 non-null   float64\n",
      " 9   cabin      295 non-null    object \n",
      " 10  embarked   1307 non-null   object \n",
      " 11  boat       486 non-null    object \n",
      " 12  body       121 non-null    float64\n",
      " 13  home.dest  745 non-null    object \n",
      "dtypes: float64(7), object(7)\n",
      "memory usage: 143.4+ KB\n"
     ]
    }
   ],
   "source": [
    "titanic2.info()"
   ]
  },
  {
   "cell_type": "markdown",
   "id": "d88506d1",
   "metadata": {},
   "source": [
    "Just like with the first dataset, we run the 'df.info()' function to see the basic info on the dataset. This dataset is much larger than the first one we used, as this set contains 1310 entries as supposed to 891. There is also more columns in this dataset. This doesn't really matter all that much, because the columns we used in the first analysis are still here, which we will use again.\n"
   ]
  },
  {
   "cell_type": "markdown",
   "id": "241ba97e",
   "metadata": {},
   "source": [
    "We also want to clean out the data and only keep the columns that we truly need for this analysis. We change the sex column into float values, by turning every cell that returns 'male' into '1' and every cell that returns 'female' into '0'."
   ]
  },
  {
   "cell_type": "code",
   "execution_count": 21,
   "id": "df6f1375",
   "metadata": {
    "scrolled": true
   },
   "outputs": [
    {
     "name": "stdout",
     "output_type": "stream",
     "text": [
      "<class 'pandas.core.frame.DataFrame'>\n",
      "Int64Index: 1045 entries, 0 to 1308\n",
      "Data columns (total 5 columns):\n",
      " #   Column    Non-Null Count  Dtype  \n",
      "---  ------    --------------  -----  \n",
      " 0   pclass    1045 non-null   float64\n",
      " 1   survived  1045 non-null   float64\n",
      " 2   sex       1045 non-null   float64\n",
      " 3   age       1045 non-null   float64\n",
      " 4   fare      1045 non-null   float64\n",
      "dtypes: float64(5)\n",
      "memory usage: 49.0 KB\n"
     ]
    }
   ],
   "source": [
    "titanic2 = titanic2[['pclass', 'survived', 'sex', 'age', 'fare',]]\n",
    "titanic2['sex'] = titanic2['sex'].replace({'male': 1, 'female': 0})\n",
    "\n",
    "titanic2 = titanic2.dropna()\n",
    "\n",
    "for k in titanic2:\n",
    "    if titanic2[k].dtypes == \"int64\":\n",
    "        titanic2[k] = titanic2[k].astype(float)\n",
    "\n",
    "titanic2.info()"
   ]
  },
  {
   "cell_type": "markdown",
   "id": "ee08dfb5",
   "metadata": {},
   "source": [
    "As seen above, every column is now a float64 Dtype, which is exactly what we wanted. We read in the data and see that our code above worked."
   ]
  },
  {
   "cell_type": "code",
   "execution_count": 22,
   "id": "1802e05b",
   "metadata": {},
   "outputs": [
    {
     "data": {
      "text/html": [
       "<div>\n",
       "<style scoped>\n",
       "    .dataframe tbody tr th:only-of-type {\n",
       "        vertical-align: middle;\n",
       "    }\n",
       "\n",
       "    .dataframe tbody tr th {\n",
       "        vertical-align: top;\n",
       "    }\n",
       "\n",
       "    .dataframe thead th {\n",
       "        text-align: right;\n",
       "    }\n",
       "</style>\n",
       "<table border=\"1\" class=\"dataframe\">\n",
       "  <thead>\n",
       "    <tr style=\"text-align: right;\">\n",
       "      <th></th>\n",
       "      <th>pclass</th>\n",
       "      <th>survived</th>\n",
       "      <th>sex</th>\n",
       "      <th>age</th>\n",
       "      <th>fare</th>\n",
       "    </tr>\n",
       "  </thead>\n",
       "  <tbody>\n",
       "    <tr>\n",
       "      <th>0</th>\n",
       "      <td>1.0</td>\n",
       "      <td>1.0</td>\n",
       "      <td>0.0</td>\n",
       "      <td>29.0000</td>\n",
       "      <td>211.3375</td>\n",
       "    </tr>\n",
       "    <tr>\n",
       "      <th>1</th>\n",
       "      <td>1.0</td>\n",
       "      <td>1.0</td>\n",
       "      <td>1.0</td>\n",
       "      <td>0.9167</td>\n",
       "      <td>151.5500</td>\n",
       "    </tr>\n",
       "    <tr>\n",
       "      <th>2</th>\n",
       "      <td>1.0</td>\n",
       "      <td>0.0</td>\n",
       "      <td>0.0</td>\n",
       "      <td>2.0000</td>\n",
       "      <td>151.5500</td>\n",
       "    </tr>\n",
       "    <tr>\n",
       "      <th>3</th>\n",
       "      <td>1.0</td>\n",
       "      <td>0.0</td>\n",
       "      <td>1.0</td>\n",
       "      <td>30.0000</td>\n",
       "      <td>151.5500</td>\n",
       "    </tr>\n",
       "    <tr>\n",
       "      <th>4</th>\n",
       "      <td>1.0</td>\n",
       "      <td>0.0</td>\n",
       "      <td>0.0</td>\n",
       "      <td>25.0000</td>\n",
       "      <td>151.5500</td>\n",
       "    </tr>\n",
       "  </tbody>\n",
       "</table>\n",
       "</div>"
      ],
      "text/plain": [
       "   pclass  survived  sex      age      fare\n",
       "0     1.0       1.0  0.0  29.0000  211.3375\n",
       "1     1.0       1.0  1.0   0.9167  151.5500\n",
       "2     1.0       0.0  0.0   2.0000  151.5500\n",
       "3     1.0       0.0  1.0  30.0000  151.5500\n",
       "4     1.0       0.0  0.0  25.0000  151.5500"
      ]
     },
     "execution_count": 22,
     "metadata": {},
     "output_type": "execute_result"
    }
   ],
   "source": [
    "titanic2.head()"
   ]
  },
  {
   "cell_type": "markdown",
   "id": "85e0fd99",
   "metadata": {},
   "source": [
    "Once again, we set our independent and dependent variables in place for our training and testing of the dataset. Once again we are predicting whether or not a passenger on the Titanic survived using 1 and 0 in place of yes and no respectively, and we are trying to find the most accurate model to use, this time for a different but related dataset obviously."
   ]
  },
  {
   "cell_type": "code",
   "execution_count": 23,
   "id": "b76aa1d5",
   "metadata": {},
   "outputs": [],
   "source": [
    "x = titanic2[['pclass','sex', 'age', 'fare']]\n",
    "y = titanic2[['survived']]"
   ]
  },
  {
   "cell_type": "markdown",
   "id": "b9e20822",
   "metadata": {},
   "source": [
    "Just like before we split the dataset into 30% training and 70% testing and start with using 10 estimators."
   ]
  },
  {
   "cell_type": "code",
   "execution_count": 24,
   "id": "dcec923f",
   "metadata": {},
   "outputs": [],
   "source": [
    "x_train, x_test, y_train, y_test = train_test_split(x, y, test_size=0.3, random_state=5)\n",
    "h = RandomForestClassifier(n_estimators = 10, random_state = 5)"
   ]
  },
  {
   "cell_type": "code",
   "execution_count": 25,
   "id": "9b18821c",
   "metadata": {},
   "outputs": [
    {
     "data": {
      "text/plain": [
       "0.802547770700637"
      ]
     },
     "execution_count": 25,
     "metadata": {},
     "output_type": "execute_result"
    }
   ],
   "source": [
    "y_train = y_train.values.ravel()\n",
    "h.fit(x_train,y_train)\n",
    "y_pred = h.predict(x_test)\n",
    "\n",
    "accuracy = accuracy_score(y_test,y_pred)\n",
    "accuracy"
   ]
  },
  {
   "cell_type": "markdown",
   "id": "c92a675f",
   "metadata": {},
   "source": [
    "In this new dataset, the accuracy for the first model is about 0.8 which is higher than the accuracy score in the first dataset which was about 0.78. This is likely due to the fact that there is more observations of data in the titanic2 dataset."
   ]
  },
  {
   "cell_type": "code",
   "execution_count": 26,
   "id": "5486d806",
   "metadata": {},
   "outputs": [
    {
     "name": "stderr",
     "output_type": "stream",
     "text": [
      "/Users/adamabid/opt/anaconda3/lib/python3.9/site-packages/sklearn/base.py:450: UserWarning: X does not have valid feature names, but RandomForestClassifier was fitted with feature names\n",
      "  warnings.warn(\n"
     ]
    },
    {
     "data": {
      "text/plain": [
       "array([1.])"
      ]
     },
     "execution_count": 26,
     "metadata": {},
     "output_type": "execute_result"
    }
   ],
   "source": [
    "obs = [[1.0, 0.0, 14.0, 300.0]]\n",
    "h.predict(obs) "
   ]
  },
  {
   "cell_type": "code",
   "execution_count": 27,
   "id": "44cf4d8c",
   "metadata": {},
   "outputs": [
    {
     "name": "stderr",
     "output_type": "stream",
     "text": [
      "/Users/adamabid/opt/anaconda3/lib/python3.9/site-packages/sklearn/base.py:450: UserWarning: X does not have valid feature names, but RandomForestClassifier was fitted with feature names\n",
      "  warnings.warn(\n"
     ]
    },
    {
     "data": {
      "text/plain": [
       "array([0.])"
      ]
     },
     "execution_count": 27,
     "metadata": {},
     "output_type": "execute_result"
    }
   ],
   "source": [
    "obs = [[2.0, 1.0, 37.0, 28.0]]\n",
    "h.predict(obs)"
   ]
  },
  {
   "cell_type": "markdown",
   "id": "00ff3c71",
   "metadata": {},
   "source": [
    "We predict if a 14 yr old female passenger who had paid 300 USD for their fare and was cabin class 1 would survive and if a 37 yr old male passenger who had paid 28 USD for their fare and was cabin class 2 would survive. According to the prediction, the 14 year old female survives and the 37 year old male does not."
   ]
  },
  {
   "cell_type": "code",
   "execution_count": 28,
   "id": "f87af6e2",
   "metadata": {},
   "outputs": [
    {
     "data": {
      "image/png": "[encoded data removed]",
      "text/plain": [
       "<Figure size 432x288 with 1 Axes>"
      ]
     },
     "metadata": {
      "needs_background": "light"
     },
     "output_type": "display_data"
    }
   ],
   "source": [
    "model_ranks=pd.Series(h.feature_importances_,index=x_train.columns,name=\"Importance\").sort_values(ascending=True,inplace=False) \n",
    "ax=model_ranks.plot(kind='barh')"
   ]
  },
  {
   "cell_type": "markdown",
   "id": "87bdfb58",
   "metadata": {},
   "source": [
    "We then present a bar graph of which independent variables are the most and least important to the survival of the passengers. It is once again, the class that the passenger stayed in that is shown to be the least important. Fare, just like before is first, followed by age and sex."
   ]
  },
  {
   "cell_type": "markdown",
   "id": "02577394",
   "metadata": {},
   "source": [
    "Now we run the model, but this time we increase the number of estimators to 100, in hope of increasing the accuracy score."
   ]
  },
  {
   "cell_type": "code",
   "execution_count": 29,
   "id": "36627a2a",
   "metadata": {},
   "outputs": [
    {
     "data": {
      "text/plain": [
       "0.7961783439490446"
      ]
     },
     "execution_count": 29,
     "metadata": {},
     "output_type": "execute_result"
    }
   ],
   "source": [
    "x_train, x_test, y_train, y_test = train_test_split(x, y, test_size=0.3, random_state=5)\n",
    "h = RandomForestClassifier(n_estimators = 100, random_state = 5)\n",
    "y_train = y_train.values.ravel()\n",
    "h.fit(x_train,y_train)\n",
    "y_pred = h.predict(x_test)\n",
    "\n",
    "accuracy = accuracy_score(y_test,y_pred)\n",
    "accuracy"
   ]
  },
  {
   "cell_type": "markdown",
   "id": "7e7ce416",
   "metadata": {},
   "source": [
    "On the last dataset, using 100 estimators caused the accuracy score to increase by 0.02. However, here it actually causes a decrease in the accuracy score with the score being about 0.01 less than before. We conclude that 10 estimators is the diminish of returns as not only did the model get less accurate, it also took more runtime. Because of this, we will use n=10 as our estimator amount for the rest of the analysis on this titanic2 dataset."
   ]
  },
  {
   "cell_type": "markdown",
   "id": "e0c09994",
   "metadata": {},
   "source": [
    "Since 'pclass' was shown to be the least important variable in the visualization, we run a model without it in an attempt to see if removing it causes an increase in the accuracy score."
   ]
  },
  {
   "cell_type": "code",
   "execution_count": 30,
   "id": "a398f301",
   "metadata": {},
   "outputs": [
    {
     "data": {
      "text/plain": [
       "0.7770700636942676"
      ]
     },
     "execution_count": 30,
     "metadata": {},
     "output_type": "execute_result"
    }
   ],
   "source": [
    "x = titanic2[['sex', 'age', 'fare']]\n",
    "y = titanic2[['survived']]\n",
    "x_train, x_test, y_train, y_test = train_test_split(x, y, test_size=0.3, random_state=5)\n",
    "h = RandomForestClassifier(n_estimators = 10, random_state = 5)\n",
    "y_train = y_train.values.ravel()\n",
    "h.fit(x_train,y_train)\n",
    "y_pred = h.predict(x_test)\n",
    "\n",
    "accuracy = accuracy_score(y_test,y_pred)\n",
    "accuracy"
   ]
  },
  {
   "cell_type": "markdown",
   "id": "6e3d116d",
   "metadata": {},
   "source": [
    "However, just like before, the accuracy score decreases to 0.78, which was even lower than when we used 100 estimators. This is most likely due to having less data to correlate with. However, it is much higher than the accuracy score of the first dataset's model that didn't contain the class the passenger stayed in.\n"
   ]
  },
  {
   "cell_type": "code",
   "execution_count": 31,
   "id": "f0d302ed",
   "metadata": {},
   "outputs": [
    {
     "data": {
      "text/plain": [
       "0.802547770700637"
      ]
     },
     "execution_count": 31,
     "metadata": {},
     "output_type": "execute_result"
    }
   ],
   "source": [
    "x = titanic2[['pclass','sex', 'age', 'fare']]\n",
    "y = titanic2[['survived']]\n",
    "\n",
    "x_train, x_test, y_train, y_test = train_test_split(x, y, test_size=0.3, random_state=5)\n",
    "h = RandomForestClassifier(n_estimators = 10, random_state = 5)\n",
    "y_train = y_train.values.ravel()\n",
    "h.fit(x_train,y_train)\n",
    "y_pred = h.predict(x_test)\n",
    "\n",
    "accuracy = accuracy_score(y_test,y_pred)\n",
    "accuracy"
   ]
  },
  {
   "cell_type": "markdown",
   "id": "d477d0f8",
   "metadata": {},
   "source": [
    "Above is once again the first model we created for the titanic2 dataset which used 10 estimators. This has been found to be the best model to use for the titanic2 dataset as it has less estimators AND better accuracy.\n",
    "\n",
    "Out of curiosity, we re-run the model with 100 estimators and see if the predictions are any different from before."
   ]
  },
  {
   "cell_type": "code",
   "execution_count": 32,
   "id": "3b3ad4ae",
   "metadata": {},
   "outputs": [],
   "source": [
    "x_train, x_test, y_train, y_test = train_test_split(x, y, test_size=0.3, random_state=5)\n",
    "h = RandomForestClassifier(n_estimators = 100, random_state = 5)\n",
    "y_train = y_train.values.ravel()\n",
    "h.fit(x_train,y_train)\n",
    "y_pred = h.predict(x_test)"
   ]
  },
  {
   "cell_type": "code",
   "execution_count": 33,
   "id": "5e674669",
   "metadata": {},
   "outputs": [
    {
     "name": "stderr",
     "output_type": "stream",
     "text": [
      "/Users/adamabid/opt/anaconda3/lib/python3.9/site-packages/sklearn/base.py:450: UserWarning: X does not have valid feature names, but RandomForestClassifier was fitted with feature names\n",
      "  warnings.warn(\n"
     ]
    },
    {
     "data": {
      "text/plain": [
       "array([1.])"
      ]
     },
     "execution_count": 33,
     "metadata": {},
     "output_type": "execute_result"
    }
   ],
   "source": [
    "obs = [[1.0, 0.0, 14.0, 300.0]]\n",
    "h.predict(obs) "
   ]
  },
  {
   "cell_type": "code",
   "execution_count": 34,
   "id": "1bae908b",
   "metadata": {},
   "outputs": [
    {
     "name": "stderr",
     "output_type": "stream",
     "text": [
      "/Users/adamabid/opt/anaconda3/lib/python3.9/site-packages/sklearn/base.py:450: UserWarning: X does not have valid feature names, but RandomForestClassifier was fitted with feature names\n",
      "  warnings.warn(\n"
     ]
    },
    {
     "data": {
      "text/plain": [
       "array([0.])"
      ]
     },
     "execution_count": 34,
     "metadata": {},
     "output_type": "execute_result"
    }
   ],
   "source": [
    "obs = [[2.0, 1.0, 37.0, 28.0]]\n",
    "h.predict(obs)"
   ]
  },
  {
   "cell_type": "markdown",
   "id": "ffc2073c",
   "metadata": {},
   "source": [
    "The less accurate and less efficient model with 100 estimators still predicts the exact outcomes as the one with 10 estimators; they both say that a 14 yr old female passenger who had paid 300 USD for their fare and was cabin class 1 would have survived. Both also predict that a 37 yr old male passenger who had paid 28 USD for their fare and was cabin class 2 would not survive."
   ]
  },
  {
   "cell_type": "markdown",
   "id": "38f13687",
   "metadata": {},
   "source": [
    "## <mark> Conclusion </mark>\n",
    "\n",
    "_<br>Overall our model seemed to be around 75 to 80 percent accurate, which is a respectable amount. We found that in both datasets, the biggest factor for passengers surviving was how much a passenger paid for their ticket. Obviously, a more expensive ticket led to a better cabin on the ship, but to our surprise, the passenger class was actually the least important variable of the four we used in the model. This could be for a number of reasons, first of which being that those who spent more on a ticket were likely more wealthy and possibly had more experience travelling on a boat, thus possibly having more survival skills as well. The passenger class not mattering could be attested to the fact that the Titanic hit the iceberg at approximately 11:40 pm. A lot of passengers could have been awake still and wandering around the ship, especially after the sinking began, so it is very likely the many passengers were not in their respective cabins.<br><br>Using two different datasets further validated the accuracy of the model, as they both returned the same results from the predictions, with the second dataset having more accurate results, likely due to it being a larger dataset. The first dataset's best model used 100 estimators, while only 10 were used for the second dataset's best model.<br><br>The Titanic was a crazy catastrophe that unfortunately killed countless lives, but analyzing the data of its passengers and which ones survived can help us predict who is most prone to danger if another disaster like this was to ever happen again."
   ]
  }
 ],
 "metadata": {
  "kernelspec": {
   "display_name": "Python 3 (ipykernel)",
   "language": "python",
   "name": "python3"
  },
  "language_info": {
   "codemirror_mode": {
    "name": "ipython",
    "version": 3
   },
   "file_extension": ".py",
   "mimetype": "text/x-python",
   "name": "python",
   "nbconvert_exporter": "python",
   "pygments_lexer": "ipython3",
   "version": "3.9.12"
  }
 },
 "nbformat": 4,
 "nbformat_minor": 5
}
